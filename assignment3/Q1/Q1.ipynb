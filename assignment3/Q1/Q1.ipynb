{
  "nbformat": 4,
  "nbformat_minor": 0,
  "metadata": {
    "colab": {
      "name": "Q1.ipynb",
      "version": "0.3.2",
      "provenance": []
    },
    "kernelspec": {
      "name": "python3",
      "display_name": "Python 3"
    }
  },
  "cells": [
    {
      "metadata": {
        "id": "sbFSAjNbgLNy",
        "colab_type": "code",
        "colab": {}
      },
      "cell_type": "code",
      "source": [
        "import numpy as np\n",
        "import random\n",
        "import torch\n",
        "import torch.nn as nn\n",
        "from torch.optim import SGD\n",
        "import numpy as np\n",
        "import matplotlib.pyplot as plt\n",
        "import torch\n",
        "import torch.nn as nn\n",
        "from torch.optim import SGD\n",
        "import numpy as np\n",
        "import matplotlib.pyplot as plt\n",
        "\n",
        "\n",
        "def distribution1(x, batch_size=512):\n",
        "    # Distribution defined as (x, U(0,1)). Can be used for question 3\n",
        "    while True:\n",
        "        yield(np.array([(x, random.uniform(0, 1)) for _ in range(batch_size)]))\n",
        "\n",
        "def distribution2(batch_size=512):\n",
        "    # High dimension uniform distribution\n",
        "    while True:\n",
        "        yield(np.random.uniform(0, 1, (batch_size, 2)))\n",
        "\n",
        "def distribution3(batch_size=512):\n",
        "    # 1D gaussian distribution\n",
        "    while True:\n",
        "        yield(np.random.normal(0, 1, (batch_size, 1)))\n",
        "\n",
        "e = lambda x: np.exp(x)\n",
        "tanh = lambda x: (e(x) - e(-x)) / (e(x)+e(-x))\n",
        "def distribution4(batch_size=1):\n",
        "    # arbitrary sampler\n",
        "    f = lambda x: tanh(x*2+1) + x*0.75\n",
        "    while True:\n",
        "        yield(f(np.random.normal(0, 1, (batch_size, 1))))\n"
      ],
      "execution_count": 0,
      "outputs": []
    },
    {
      "metadata": {
        "id": "UKOJDP9Blq4K",
        "colab_type": "code",
        "colab": {}
      },
      "cell_type": "code",
      "source": [
        "#Objective function for the Jensen-Shannon Divergence\n",
        "def JSD(dist1, dist2, Discriminator):\n",
        "    x_1 = torch.from_numpy(next(dist1)).float()\n",
        "    x_2 = torch.from_numpy(next(dist2)).float()\n",
        "    y_1 = Discriminator(x_1)\n",
        "    y_2 = Discriminator(x_2)\n",
        "    y_1 = torch.sigmoid(y_1)\n",
        "    y_2 = torch.sigmoid(y_2)\n",
        "    jsd = np.log(2) + (0.5*torch.mean(torch.log(y_1)) + 0.5*torch.mean(torch.log(1 - y_2))).data.cpu().numpy()\n",
        "    return jsd"
      ],
      "execution_count": 0,
      "outputs": []
    },
    {
      "metadata": {
        "id": "P_6Zqp_Cl7c6",
        "colab_type": "code",
        "colab": {}
      },
      "cell_type": "code",
      "source": [
        "#Objective function for the Wasserstein Distance\n",
        "def WD(dist1, dist2, Discriminator):\n",
        "    x_1 = torch.from_numpy(next(dist1)).float()\n",
        "    x_2 = torch.from_numpy(next(dist2)).float()\n",
        "    y_1 = Discriminator(x_1)\n",
        "    y_2 = Discriminator(x_2)\n",
        "    wd = (torch.mean(y_1) - torch.mean(y_2)).data.cpu().numpy()\n",
        "    return wd"
      ],
      "execution_count": 0,
      "outputs": []
    },
    {
      "metadata": {
        "id": "ZVAud3TIghs3",
        "colab_type": "code",
        "colab": {}
      },
      "cell_type": "code",
      "source": [
        "#Three Layer MLP\n",
        "class MLP(nn.Module):\n",
        "    def __init__(self, input_size):\n",
        "        super(MLP, self).__init__()\n",
        "        self.input_size = input_size\n",
        "        self.fc1 = nn.Linear(self.input_size, 64)\n",
        "        self.fc2 = nn.Linear(64, 64)\n",
        "        self.fc3 = nn.Linear(64, 1)\n",
        "\n",
        "    def forward(self, x):\n",
        "        out = torch.relu(self.fc1(x))\n",
        "        out = torch.relu(self.fc2(out))\n",
        "        out = self.fc3(out)\n",
        "        return out"
      ],
      "execution_count": 0,
      "outputs": []
    },
    {
      "metadata": {
        "id": "fxfBhAWum1o7",
        "colab_type": "code",
        "colab": {}
      },
      "cell_type": "code",
      "source": [
        "#Train method\n",
        "def train_JSD(dist1, dist2, Discriminator):\n",
        "    sgd = SGD(Discriminator.parameters(), lr=0.001)\n",
        "    for i in range(50000):\n",
        "        sgd.zero_grad()\n",
        "        x_1 = torch.from_numpy(next(dist1)).float()\n",
        "        x_2 = torch.from_numpy(next(dist2)).float()\n",
        "        y_1 = Discriminator(x_1)\n",
        "        y_2 = Discriminator(x_2)  \n",
        "        y_1 = torch.sigmoid(y_1)\n",
        "        y_2 = torch.sigmoid(y_2)\n",
        "        loss = - torch.mean(torch.log(y_1)) - torch.mean(torch.log(1 - y_2))\n",
        "        loss.backward()\n",
        "        sgd.step()\n",
        "    return Discriminator"
      ],
      "execution_count": 0,
      "outputs": []
    },
    {
      "metadata": {
        "id": "cXhPrJ73-j_s",
        "colab_type": "code",
        "colab": {}
      },
      "cell_type": "code",
      "source": [
        "#plot JSD\n",
        "data = ([],[])\n",
        "dist1 = distribution1(0)\n",
        "for x in np.arange(-1.0, 1.01, 0.1):\n",
        "    x = np.around(x, decimals=1)\n",
        "    #print(\"x = \" + str(x))\n",
        "    dist2 = distribution1(x, batch_size=512)\n",
        "    D = MLP(2)\n",
        "    Discriminator = train_JSD(dist1, dist2, D)\n",
        "    y = JSD(dist1, dist2, Discriminator)\n",
        "    data[0].append(x)\n",
        "    data[1].append(y)"
      ],
      "execution_count": 0,
      "outputs": []
    },
    {
      "metadata": {
        "id": "u86jZKD0-gOo",
        "colab_type": "code",
        "outputId": "62096828-45e9-4c48-8cde-396465fa58fc",
        "colab": {
          "base_uri": "https://localhost:8080/",
          "height": 295
        }
      },
      "cell_type": "code",
      "source": [
        "plt.plot(data[0], data[1], '.')\n",
        "plt.xlim(-1, 1)\n",
        "plt.xlabel('phi')\n",
        "plt.ylabel('JSD')\n",
        "plt.title('Estimate of JSD vs phi')\n",
        "plt.show()"
      ],
      "execution_count": 0,
      "outputs": [
        {
          "output_type": "display_data",
          "data": {
            "image/png": "[encoded data removed]",
            "text/plain": [
              "<Figure size 432x288 with 1 Axes>"
            ]
          },
          "metadata": {
            "tags": []
          }
        }
      ]
    },
    {
      "metadata": {
        "id": "L0YXc7b1ntao",
        "colab_type": "code",
        "colab": {}
      },
      "cell_type": "code",
      "source": [
        "#train WD\n",
        "def train_WD(dist1, dist2, Discriminator):\n",
        "    sgd = SGD(Discriminator.parameters(), lr=0.001)\n",
        "    dist_u = distribution2(batch_size=512)\n",
        "    lambda_ = 10\n",
        "    for i in range(40000):\n",
        "        sgd.zero_grad()\n",
        "        x_1 = torch.from_numpy(next(dist1)).float()\n",
        "        x_2 = torch.from_numpy(next(dist2)).float()\n",
        "        y_1 = Discriminator(x_1)\n",
        "        y_2 = Discriminator(x_2)\n",
        "        num = torch.from_numpy(next(dist_u)).float()\n",
        "        x_z = num*x_1 + (1 - num)*x_2\n",
        "        x_z.requires_grad = True\n",
        "        y_z = Discriminator(x_z)\n",
        "        grad_z = torch.autograd.grad(y_z, x_z, grad_outputs=torch.ones(y_z.size()), retain_graph=True, create_graph=True, only_inputs=True)[0]\n",
        "        loss = -(torch.mean(y_1) - torch.mean(y_2) - lambda_*torch.mean((torch.norm(grad_z, p=2, dim=1)-1)**2))        \n",
        "        loss.backward()\n",
        "        sgd.step()\n",
        "    return Discriminator"
      ],
      "execution_count": 0,
      "outputs": []
    },
    {
      "metadata": {
        "id": "LNpfwj4nM3ew",
        "colab_type": "code",
        "outputId": "c43c9296-479b-4819-de22-96d46051cc31",
        "colab": {
          "base_uri": "https://localhost:8080/",
          "height": 658
        }
      },
      "cell_type": "code",
      "source": [
        "#plot WD\n",
        "data = ([],[])\n",
        "dist1 = distribution1(0)\n",
        "for x in np.arange(-1.0, 1.01, 0.1):\n",
        "    x = np.around(x, decimals=1)\n",
        "    #print(\"x = \" + str(x))\n",
        "    dist2 = distribution1(x)\n",
        "    D = MLP(2)\n",
        "    Discriminator = train_WD(dist1, dist2, D)\n",
        "    y = WD(dist1, dist2, Discriminator)\n",
        "    data[0].append(x)\n",
        "    data[1].append(y)\n",
        "    plt.plot(data[0], data[1], '.')\n",
        "plt.xlim(-1, 1)\n",
        "plt.xlabel('phi')\n",
        "plt.ylabel('WD')\n",
        "plt.title('Estimate of WD vs phi')\n",
        "plt.show()"
      ],
      "execution_count": 0,
      "outputs": [
        {
          "output_type": "stream",
          "text": [
            "x = -1.0\n",
            "x = -0.9\n",
            "x = -0.8\n",
            "x = -0.7\n",
            "x = -0.6\n",
            "x = -0.5\n",
            "x = -0.4\n",
            "x = -0.3\n",
            "x = -0.2\n",
            "x = -0.1\n",
            "x = -0.0\n",
            "x = 0.1\n",
            "x = 0.2\n",
            "x = 0.3\n",
            "x = 0.4\n",
            "x = 0.5\n",
            "x = 0.6\n",
            "x = 0.7\n",
            "x = 0.8\n",
            "x = 0.9\n",
            "x = 1.0\n"
          ],
          "name": "stdout"
        },
        {
          "output_type": "display_data",
          "data": {
            "image/png": "[encoded data removed]",
            "text/plain": [
              "<Figure size 432x288 with 1 Axes>"
            ]
          },
          "metadata": {
            "tags": []
          }
        }
      ]
    },
    {
      "metadata": {
        "id": "uXs1ExKOpq7i",
        "colab_type": "code",
        "outputId": "226efac3-df89-4aea-e65c-ac4a7ed046a3",
        "colab": {
          "base_uri": "https://localhost:8080/",
          "height": 286
        }
      },
      "cell_type": "code",
      "source": [
        "# plot p0 and p1\n",
        "plt.figure()\n",
        "\n",
        "# empirical\n",
        "xx = torch.randn(10000)\n",
        "f = lambda x: torch.tanh(x*2+1) + x*0.75\n",
        "d = lambda x: (1-torch.tanh(x*2+1)**2)*2+0.75\n",
        "plt.hist(f(xx), 100, alpha=0.5, density=1)\n",
        "plt.hist(xx, 100, alpha=0.5, density=1)\n",
        "plt.xlim(-5,5)\n",
        "# exact\n",
        "xx = np.linspace(-5,5,1000)\n",
        "N = lambda x: np.exp(-x**2/2.)/((2*np.pi)**0.5)\n",
        "plt.plot(f(torch.from_numpy(xx)).numpy(), d(torch.from_numpy(xx)).numpy()**(-1)*N(xx))\n",
        "plt.plot(xx, N(xx))\n",
        "\n",
        "############### import the sampler ``samplers.distribution4'' \n",
        "############### train a discriminator on distribution4 and standard gaussian\n",
        "############### estimate the density of distribution4"
      ],
      "execution_count": 0,
      "outputs": [
        {
          "output_type": "execute_result",
          "data": {
            "text/plain": [
              "[<matplotlib.lines.Line2D at 0x7fd1085f1160>]"
            ]
          },
          "metadata": {
            "tags": []
          },
          "execution_count": 50
        },
        {
          "output_type": "display_data",
          "data": {
            "image/png": "[encoded data removed]",
            "text/plain": [
              "<Figure size 432x288 with 1 Axes>"
            ]
          },
          "metadata": {
            "tags": []
          }
        }
      ]
    },
    {
      "metadata": {
        "id": "XWAB2UtSXGRd",
        "colab_type": "code",
        "colab": {}
      },
      "cell_type": "code",
      "source": [
        "#######--- INSERT YOUR CODE BELOW ---#######\n",
        "dist4 = distribution4(batch_size=256)\n",
        "dist3 = distribution3(batch_size=256)\n",
        "D = MLP(1)\n",
        "Discriminator = train_JSD(dist4, dist3, D)\n",
        "input = torch.from_numpy(xx).float()\n",
        "input = torch.unsqueeze(input, 1)\n",
        "Dx = torch.squeeze(torch.sigmoid(Discriminator(input)), 1).data.cpu().numpy()\n",
        "#f1 = f0 D*(x) / (1 - D*(x))\n",
        "#where D*(x) = argmax_D E(log(Dx)) + E(log(1-Dx))\n",
        "f_1 = N(xx)*Dx/(1-Dx)"
      ],
      "execution_count": 0,
      "outputs": []
    },
    {
      "metadata": {
        "id": "TFjuospIqx9k",
        "colab_type": "code",
        "outputId": "3206e65b-fbfe-46fd-e323-f2e627ec69a4",
        "colab": {
          "base_uri": "https://localhost:8080/",
          "height": 301
        }
      },
      "cell_type": "code",
      "source": [
        "############### plotting things\n",
        "############### (1) plot the output of your trained discriminator \n",
        "############### (2) plot the estimated density contrasted with the true density\n",
        "\n",
        "r = Dx # evaluate xx using your discriminator; replace xx with the output\n",
        "plt.figure(figsize=(8,4))\n",
        "plt.subplot(1,2,1)\n",
        "plt.plot(xx,r)\n",
        "plt.title(r'$D(x)$')\n",
        "\n",
        "estimate = f_1 # estimate the density of distribution4 (on xx) using the discriminator; \n",
        "                                # replace \"np.ones_like(xx)*0.\" with your estimate\n",
        "plt.subplot(1,2,2)\n",
        "plt.plot(xx,estimate)\n",
        "plt.plot(f(torch.from_numpy(xx)).numpy(), d(torch.from_numpy(xx)).numpy()**(-1)*N(xx))\n",
        "plt.legend(['Estimated','True'])\n",
        "plt.title('Estimated vs True')"
      ],
      "execution_count": 0,
      "outputs": [
        {
          "output_type": "execute_result",
          "data": {
            "text/plain": [
              "Text(0.5, 1.0, 'Estimated vs True')"
            ]
          },
          "metadata": {
            "tags": []
          },
          "execution_count": 52
        },
        {
          "output_type": "display_data",
          "data": {
            "image/png": "[encoded data removed]",
            "text/plain": [
              "<Figure size 576x288 with 2 Axes>"
            ]
          },
          "metadata": {
            "tags": []
          }
        }
      ]
    }
  ]
}