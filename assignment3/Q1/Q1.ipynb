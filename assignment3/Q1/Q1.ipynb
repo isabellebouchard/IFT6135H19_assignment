{
  "nbformat": 4,
  "nbformat_minor": 0,
  "metadata": {
    "colab": {
      "name": "Q1.ipynb",
      "version": "0.3.2",
      "provenance": []
    },
    "kernelspec": {
      "name": "python3",
      "display_name": "Python 3"
    }
  },
  "cells": [
    {
      "metadata": {
        "id": "sbFSAjNbgLNy",
        "colab_type": "code",
        "colab": {}
      },
      "cell_type": "code",
      "source": [
        "import numpy as np\n",
        "import random\n",
        "import torch\n",
        "import torch.nn as nn\n",
        "from torch.optim import SGD\n",
        "import numpy as np\n",
        "import matplotlib.pyplot as plt\n",
        "\n",
        "\n",
        "def distribution1(x, batch_size=512):\n",
        "    # Distribution defined as (x, U(0,1)). Can be used for question 3\n",
        "    while True:\n",
        "        yield(np.array([(x, random.uniform(0, 1)) for _ in range(batch_size)]))\n",
        "\n",
        "def distribution2(batch_size=512):\n",
        "    # High dimension uniform distribution\n",
        "    while True:\n",
        "        yield(np.random.uniform(0, 1, (batch_size, 2)))\n",
        "\n",
        "def distribution3(batch_size=512):\n",
        "    # 1D gaussian distribution\n",
        "    while True:\n",
        "        yield(np.random.normal(0, 1, (batch_size, 1)))\n",
        "\n",
        "e = lambda x: np.exp(x)\n",
        "tanh = lambda x: (e(x) - e(-x)) / (e(x)+e(-x))\n",
        "def distribution4(batch_size=1):\n",
        "    # arbitrary sampler\n",
        "    f = lambda x: tanh(x*2+1) + x*0.75\n",
        "    while True:\n",
        "        yield(f(np.random.normal(0, 1, (batch_size, 1))))\n"
      ],
      "execution_count": 0,
      "outputs": []
    },
    {
      "metadata": {
        "id": "K87Q5_xTgNKu",
        "colab_type": "code",
        "colab": {}
      },
      "cell_type": "code",
      "source": [
        "#estimate JSD and WD\n",
        "def estimate(metric, dist1, dist2, D):\n",
        "    x_1 = torch.from_numpy(next(dist1)).float()\n",
        "    x_2 = torch.from_numpy(next(dist2)).float()\n",
        "    y_1 = D(x_1)\n",
        "    y_2 = D(x_2)\n",
        "\n",
        "    if metric == 'JSD':\n",
        "        y_1 = torch.sigmoid(y_1)\n",
        "        y_2 = torch.sigmoid(y_2)\n",
        "        jsd = np.log(2) + (0.5*torch.mean(torch.log(y_1)) + 0.5*torch.mean(torch.log(1 - y_2))).data.cpu().numpy()\n",
        "        return jsd\n",
        "    if metric == 'WD':\n",
        "        wd = (torch.mean(y_1) - torch.mean(y_2)).data.cpu().numpy()\n",
        "        return wd\n",
        "    "
      ],
      "execution_count": 0,
      "outputs": []
    },
    {
      "metadata": {
        "id": "ZVAud3TIghs3",
        "colab_type": "code",
        "colab": {}
      },
      "cell_type": "code",
      "source": [
        "import torch\n",
        "import torch.nn as nn\n",
        "from torch.optim import SGD\n",
        "import numpy as np\n",
        "import matplotlib.pyplot as plt\n",
        "#import samplers\n",
        "import argparse\n",
        "\n",
        "#Three Layer MLP\n",
        "class MLP(nn.Module):\n",
        "    def __init__(self, input_size):\n",
        "        super(MLP, self).__init__()\n",
        "        self.input_size = input_size\n",
        "\n",
        "        self.layer1 = nn.Linear(self.input_size, 64)\n",
        "        self.layer2 = nn.Linear(64, 64)\n",
        "        self.layer3 = nn.Linear(64, 1)\n",
        "\n",
        "    def forward(self, x):\n",
        "        out = torch.relu(self.layer1(x))\n",
        "        out = torch.relu(self.layer2(out))\n",
        "        out = self.layer3(out)\n",
        "        return out\n",
        "\n",
        "#Train method\n",
        "def train(metric, dist1, dist2):\n",
        "    \n",
        "    D = MLP(2)\n",
        "    sgd = SGD(D.parameters(), lr=0.001)\n",
        "    \n",
        "    if metric == 'WD':\n",
        "        dist_u = distribution2(batch_size=512)\n",
        "        lambda_ = 10\n",
        "\n",
        "    for i in range(40000):\n",
        "        sgd.zero_grad()\n",
        "        x_1 = torch.from_numpy(next(dist1)).float()\n",
        "        x_2 = torch.from_numpy(next(dist2)).float()\n",
        "        y_1 = D(x_1)\n",
        "        y_2 = D(x_2)\n",
        "\n",
        "        if metric == 'JSD':\n",
        "            y_1 = torch.sigmoid(y_1)\n",
        "            y_2 = torch.sigmoid(y_2)\n",
        "            loss = - torch.mean(torch.log(y_1)) - torch.mean(torch.log(1 - y_2))\n",
        "        if metric == 'WD':\n",
        "            num = torch.from_numpy(next(dist_u)).float()\n",
        "            x_z = num*x_1 + (1 - num)*x_2\n",
        "            x_z.requires_grad = True\n",
        "            y_z = D(x_z)\n",
        "            grad_z = torch.autograd.grad(y_z, x_z, grad_outputs=torch.ones(y_z.size()), retain_graph=True, create_graph=True, only_inputs=True)[0]\n",
        "            loss = -(torch.mean(y_1) - torch.mean(y_2) - lambda_*torch.mean((torch.norm(grad_z, p=2, dim=1)-1)**2))\n",
        "            \n",
        "        loss.backward()\n",
        "        sgd.step()\n",
        "\n",
        "    return D"
      ],
      "execution_count": 0,
      "outputs": []
    },
    {
      "metadata": {
        "id": "Yt3SDxMJYjs5",
        "colab_type": "code",
        "colab": {
          "base_uri": "https://localhost:8080/",
          "height": 632
        },
        "outputId": "d1ae4459-16f4-4f61-9451-dbd4ef4be3d9"
      },
      "cell_type": "code",
      "source": [
        "#Testing\n",
        "# data_points = ([],[])\n",
        "# dist1 = distribution1(0)\n",
        "# for x in np.arange(-1.0, 1.01, 0.1):\n",
        "#     x = np.around(x, decimals=1)\n",
        "#     print(\"x = \" + str(x))\n",
        "#     dist2 = distribution1(x, batch_size=512)\n",
        "#     D = train('WD', dist1, dist2)\n",
        "#     y = estimate('WD', dist1, dist2, D)\n",
        "#     data_points[0].append(x)\n",
        "#     data_points[1].append(y)\n",
        "\n",
        "# plt.plot(data_points[0], data_points[1], '.')\n",
        "# plt.xlim(-1, 1)\n",
        "# plt.show()"
      ],
      "execution_count": 15,
      "outputs": [
        {
          "output_type": "stream",
          "text": [
            "x = -1.0\n",
            "x = -0.9\n",
            "x = -0.8\n",
            "x = -0.7\n",
            "x = -0.6\n",
            "x = -0.5\n",
            "x = -0.4\n",
            "x = -0.3\n",
            "x = -0.2\n",
            "x = -0.1\n",
            "x = -0.0\n",
            "x = 0.1\n",
            "x = 0.2\n",
            "x = 0.3\n",
            "x = 0.4\n",
            "x = 0.5\n",
            "x = 0.6\n",
            "x = 0.7\n",
            "x = 0.8\n",
            "x = 0.9\n",
            "x = 1.0\n"
          ],
          "name": "stdout"
        },
        {
          "output_type": "display_data",
          "data": {
            "image/png": "[encoded data removed]",
            "text/plain": [
              "<Figure size 432x288 with 1 Axes>"
            ]
          },
          "metadata": {
            "tags": []
          }
        }
      ]
    },
    {
      "metadata": {
        "id": "MIvUP8Gtj4-n",
        "colab_type": "code",
        "outputId": "d3a24784-4822-4b57-911b-9daf63f433ad",
        "colab": {
          "base_uri": "https://localhost:8080/",
          "height": 686
        }
      },
      "cell_type": "code",
      "source": [
        "#plot JSD\n",
        "data = ([],[])\n",
        "dist1 = distribution1(0)\n",
        "for x in np.arange(-1.0, 1.01, 0.1):\n",
        "    x = np.around(x, decimals=1)\n",
        "    print(\"x = \" + str(x))\n",
        "    dist2 = distribution1(x, batch_size=512)\n",
        "    D = train('JSD', dist1, dist2)\n",
        "    y = estimate('JSD', dist1, dist2, D)\n",
        "    data[0].append(x)\n",
        "    data[1].append(y)\n",
        "\n",
        "plt.plot(data_points[0], data_points[1], '.')\n",
        "plt.xlim(-1, 1)\n",
        "plt.show()"
      ],
      "execution_count": 0,
      "outputs": [
        {
          "output_type": "stream",
          "text": [
            "x = -1.0\n"
          ],
          "name": "stdout"
        },
        {
          "output_type": "stream",
          "text": [
            "/usr/local/lib/python3.6/dist-packages/torch/nn/functional.py:1332: UserWarning: nn.functional.sigmoid is deprecated. Use torch.sigmoid instead.\n",
            "  warnings.warn(\"nn.functional.sigmoid is deprecated. Use torch.sigmoid instead.\")\n"
          ],
          "name": "stderr"
        },
        {
          "output_type": "stream",
          "text": [
            "x = -0.9\n",
            "x = -0.8\n",
            "x = -0.7\n",
            "x = -0.6\n",
            "x = -0.5\n",
            "x = -0.4\n",
            "x = -0.3\n",
            "x = -0.2\n",
            "x = -0.1\n",
            "x = -0.0\n",
            "x = 0.1\n",
            "x = 0.2\n",
            "x = 0.3\n",
            "x = 0.4\n",
            "x = 0.5\n",
            "x = 0.6\n",
            "x = 0.7\n",
            "x = 0.8\n",
            "x = 0.9\n",
            "x = 1.0\n"
          ],
          "name": "stdout"
        },
        {
          "output_type": "display_data",
          "data": {
            "image/png": "[encoded data removed]",
            "text/plain": [
              "<Figure size 432x288 with 1 Axes>"
            ]
          },
          "metadata": {
            "tags": []
          }
        }
      ]
    },
    {
      "metadata": {
        "id": "LNpfwj4nM3ew",
        "colab_type": "code",
        "outputId": "88d21265-369f-40ae-d557-0d1250f5c554",
        "colab": {
          "base_uri": "https://localhost:8080/",
          "height": 632
        }
      },
      "cell_type": "code",
      "source": [
        "#plot WD\n",
        "data = ([],[])\n",
        "dist1 = distribution1(0)\n",
        "for x in np.arange(-1.0, 1.01, 0.1):\n",
        "    x = np.around(x, decimals=1)\n",
        "    print(\"x = \" + str(x))\n",
        "    dist2 = distribution1(x)\n",
        "    D = train('WD', dist1, dist2)\n",
        "    y = estimate('WD', dist1, dist2, D)\n",
        "    data[0].append(x)\n",
        "    data[1].append(y)\n",
        "\n",
        "plt.plot(data[0], data[1], '.')\n",
        "plt.xlim(-1, 1)\n",
        "plt.show()"
      ],
      "execution_count": 0,
      "outputs": [
        {
          "output_type": "stream",
          "text": [
            "x = -1.0\n",
            "x = -0.9\n",
            "x = -0.8\n",
            "x = -0.7\n",
            "x = -0.6\n",
            "x = -0.5\n",
            "x = -0.4\n",
            "x = -0.3\n",
            "x = -0.2\n",
            "x = -0.1\n",
            "x = -0.0\n",
            "x = 0.1\n",
            "x = 0.2\n",
            "x = 0.3\n",
            "x = 0.4\n",
            "x = 0.5\n",
            "x = 0.6\n",
            "x = 0.7\n",
            "x = 0.8\n",
            "x = 0.9\n",
            "x = 1.0\n"
          ],
          "name": "stdout"
        },
        {
          "output_type": "display_data",
          "data": {
            "image/png": "[encoded data removed]",
            "text/plain": [
              "<Figure size 432x288 with 1 Axes>"
            ]
          },
          "metadata": {
            "tags": []
          }
        }
      ]
    },
    {
      "metadata": {
        "id": "XWAB2UtSXGRd",
        "colab_type": "code",
        "colab": {}
      },
      "cell_type": "code",
      "source": [
        ""
      ],
      "execution_count": 0,
      "outputs": []
    }
  ]
}